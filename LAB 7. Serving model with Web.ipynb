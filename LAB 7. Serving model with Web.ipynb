{
 "cells": [
  {
   "cell_type": "markdown",
   "metadata": {},
   "source": [
    "# LAB 7. Serving model with Web"
   ]
  },
  {
   "cell_type": "code",
   "execution_count": 2,
   "metadata": {
    "collapsed": false
   },
   "outputs": [
    {
     "name": "stdout",
     "output_type": "stream",
     "text": [
      "Cloning into 'training-data-analyst'...\n",
      "remote: Counting objects: 3388, done.\u001b[K\n",
      "remote: Total 3388 (delta 0), reused 0 (delta 0), pack-reused 3388\u001b[K\n",
      "Receiving objects: 100% (3388/3388), 11.21 MiB | 5.09 MiB/s, done.\n",
      "Resolving deltas: 100% (1694/1694), done.\n",
      "Checking connectivity... done.\n"
     ]
    }
   ],
   "source": [
    "!git clone https://github.com/GoogleCloudPlatform/training-data-analyst\n"
   ]
  },
  {
   "cell_type": "code",
   "execution_count": 3,
   "metadata": {
    "collapsed": false
   },
   "outputs": [
    {
     "name": "stdout",
     "output_type": "stream",
     "text": [
      "README.md  appengine_config.py\tmain.py\t\t  templates\r\n",
      "app.yaml   docs\t\t\trequirements.txt\r\n"
     ]
    }
   ],
   "source": [
    "!ls training-data-analyst/blogs/babyweight/application\n"
   ]
  },
  {
   "cell_type": "code",
   "execution_count": null,
   "metadata": {
    "collapsed": true
   },
   "outputs": [],
   "source": []
  }
 ],
 "metadata": {
  "kernelspec": {
   "display_name": "Python 2",
   "language": "python",
   "name": "python2"
  },
  "language_info": {
   "codemirror_mode": {
    "name": "ipython",
    "version": 2
   },
   "file_extension": ".py",
   "mimetype": "text/x-python",
   "name": "python",
   "nbconvert_exporter": "python",
   "pygments_lexer": "ipython2",
   "version": "2.7.9"
  }
 },
 "nbformat": 4,
 "nbformat_minor": 2
}
